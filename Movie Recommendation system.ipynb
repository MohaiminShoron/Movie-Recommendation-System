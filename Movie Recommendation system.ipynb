{
 "cells": [
  {
   "cell_type": "code",
   "execution_count": 1,
   "metadata": {},
   "outputs": [],
   "source": [
    "import numpy as np\n",
    "import pandas as pd\n",
    "from sklearn.feature_extraction.text import CountVectorizer\n",
    "from sklearn.metrics.pairwise import cosine_similarity\n"
   ]
  },
  {
   "cell_type": "code",
   "execution_count": 2,
   "metadata": {},
   "outputs": [],
   "source": [
    "#helper functions\n",
    "def get_title_from_index(index):\n",
    "    return df[df.index == index][\"title\"].values[0]\n",
    "\n",
    "def get_index_from_title(title):\n",
    "    return df[df.title == title][\"index\"].values[0]"
   ]
  },
  {
   "cell_type": "code",
   "execution_count": 6,
   "metadata": {},
   "outputs": [],
   "source": [
    "df=pd.read_csv(\"movie_dataset.csv\")"
   ]
  },
  {
   "cell_type": "code",
   "execution_count": 7,
   "metadata": {},
   "outputs": [
    {
     "name": "stdout",
     "output_type": "stream",
     "text": [
      "   index     budget                                    genres  \\\n",
      "0      0  237000000  Action Adventure Fantasy Science Fiction   \n",
      "1      1  300000000                  Adventure Fantasy Action   \n",
      "2      2  245000000                    Action Adventure Crime   \n",
      "3      3  250000000               Action Crime Drama Thriller   \n",
      "4      4  260000000          Action Adventure Science Fiction   \n",
      "\n",
      "                                       homepage      id  \\\n",
      "0                   http://www.avatarmovie.com/   19995   \n",
      "1  http://disney.go.com/disneypictures/pirates/     285   \n",
      "2   http://www.sonypictures.com/movies/spectre/  206647   \n",
      "3            http://www.thedarkknightrises.com/   49026   \n",
      "4          http://movies.disney.com/john-carter   49529   \n",
      "\n",
      "                                            keywords original_language  \\\n",
      "0  culture clash future space war space colony so...                en   \n",
      "1  ocean drug abuse exotic island east india trad...                en   \n",
      "2         spy based on novel secret agent sequel mi6                en   \n",
      "3  dc comics crime fighter terrorist secret ident...                en   \n",
      "4  based on novel mars medallion space travel pri...                en   \n",
      "\n",
      "                             original_title  \\\n",
      "0                                    Avatar   \n",
      "1  Pirates of the Caribbean: At World's End   \n",
      "2                                   Spectre   \n",
      "3                     The Dark Knight Rises   \n",
      "4                               John Carter   \n",
      "\n",
      "                                            overview  popularity  ... runtime  \\\n",
      "0  In the 22nd century, a paraplegic Marine is di...  150.437577  ...   162.0   \n",
      "1  Captain Barbossa, long believed to be dead, ha...  139.082615  ...   169.0   \n",
      "2  A cryptic message from Bond’s past sends him o...  107.376788  ...   148.0   \n",
      "3  Following the death of District Attorney Harve...  112.312950  ...   165.0   \n",
      "4  John Carter is a war-weary, former military ca...   43.926995  ...   132.0   \n",
      "\n",
      "                                    spoken_languages    status  \\\n",
      "0  [{\"iso_639_1\": \"en\", \"name\": \"English\"}, {\"iso...  Released   \n",
      "1           [{\"iso_639_1\": \"en\", \"name\": \"English\"}]  Released   \n",
      "2  [{\"iso_639_1\": \"fr\", \"name\": \"Fran\\u00e7ais\"},...  Released   \n",
      "3           [{\"iso_639_1\": \"en\", \"name\": \"English\"}]  Released   \n",
      "4           [{\"iso_639_1\": \"en\", \"name\": \"English\"}]  Released   \n",
      "\n",
      "                                          tagline  \\\n",
      "0                     Enter the World of Pandora.   \n",
      "1  At the end of the world, the adventure begins.   \n",
      "2                           A Plan No One Escapes   \n",
      "3                                 The Legend Ends   \n",
      "4            Lost in our world, found in another.   \n",
      "\n",
      "                                      title vote_average vote_count  \\\n",
      "0                                    Avatar          7.2      11800   \n",
      "1  Pirates of the Caribbean: At World's End          6.9       4500   \n",
      "2                                   Spectre          6.3       4466   \n",
      "3                     The Dark Knight Rises          7.6       9106   \n",
      "4                               John Carter          6.1       2124   \n",
      "\n",
      "                                                cast  \\\n",
      "0  Sam Worthington Zoe Saldana Sigourney Weaver S...   \n",
      "1  Johnny Depp Orlando Bloom Keira Knightley Stel...   \n",
      "2  Daniel Craig Christoph Waltz L\\u00e9a Seydoux ...   \n",
      "3  Christian Bale Michael Caine Gary Oldman Anne ...   \n",
      "4  Taylor Kitsch Lynn Collins Samantha Morton Wil...   \n",
      "\n",
      "                                                crew           director  \n",
      "0  [{'name': 'Stephen E. Rivkin', 'gender': 0, 'd...      James Cameron  \n",
      "1  [{'name': 'Dariusz Wolski', 'gender': 2, 'depa...     Gore Verbinski  \n",
      "2  [{'name': 'Thomas Newman', 'gender': 2, 'depar...         Sam Mendes  \n",
      "3  [{'name': 'Hans Zimmer', 'gender': 2, 'departm...  Christopher Nolan  \n",
      "4  [{'name': 'Andrew Stanton', 'gender': 2, 'depa...     Andrew Stanton  \n",
      "\n",
      "[5 rows x 24 columns]\n",
      "Index(['index', 'budget', 'genres', 'homepage', 'id', 'keywords',\n",
      "       'original_language', 'original_title', 'overview', 'popularity',\n",
      "       'production_companies', 'production_countries', 'release_date',\n",
      "       'revenue', 'runtime', 'spoken_languages', 'status', 'tagline', 'title',\n",
      "       'vote_average', 'vote_count', 'cast', 'crew', 'director'],\n",
      "      dtype='object')\n"
     ]
    }
   ],
   "source": [
    "print(df.head())\n",
    "print(df.columns)"
   ]
  },
  {
   "cell_type": "code",
   "execution_count": 9,
   "metadata": {},
   "outputs": [
    {
     "name": "stdout",
     "output_type": "stream",
     "text": [
      "0    culture clash future space war space colony so...\n",
      "1    ocean drug abuse exotic island east india trad...\n",
      "2    spy based on novel secret agent sequel mi6 Dan...\n",
      "3    dc comics crime fighter terrorist secret ident...\n",
      "4    based on novel mars medallion space travel pri...\n",
      "Name: combined features, dtype: object\n"
     ]
    }
   ],
   "source": [
    "#select features\n",
    "features = ['keywords','cast','genres','director']\n",
    "\n",
    "for feature in features:\n",
    "    df[feature]=df[feature].fillna('')\n",
    "#create a column which combines all the selected features\n",
    "\n",
    "def combined_features(row):\n",
    "    try:\n",
    "        return row['keywords']+\" \"+row['cast']+\" \"+row['genres']+\" \"+row['director']\n",
    "    except:\n",
    "        print(\"error:\",row)\n",
    "\n",
    "df[\"combined features\"]=df.apply(combined_features,axis=1)\n",
    "\n",
    "print(df[\"combined features\"].head())"
   ]
  },
  {
   "cell_type": "code",
   "execution_count": 19,
   "metadata": {},
   "outputs": [],
   "source": [
    "#create count matrix for combined columns\n",
    "cv= CountVectorizer()\n",
    "cv_fit=cv.fit_transform(df[\"combined features\"])\n",
    "\n",
    "#compute cosine similarity\n",
    "cosine_sim=cosine_similarity(cv_fit)\n",
    "movie_user_likes=\"The Dark Knight\"\n",
    "\n",
    "#get index of this movie\n",
    "movie_index=get_index_from_title(movie_user_likes)\n",
    "\n",
    "#get index list of similar movies\n",
    "similar_movies=list(enumerate(cosine_sim[movie_index]))\n",
    "sorted_similar_movies=sorted(similar_movies,key=lambda x:x[1],reverse=True)"
   ]
  },
  {
   "cell_type": "code",
   "execution_count": 20,
   "metadata": {},
   "outputs": [
    {
     "name": "stdout",
     "output_type": "stream",
     "text": [
      "The Dark Knight Rises\n",
      "Batman Begins\n",
      "Amidst the Devil's Wings\n",
      "The Prestige\n",
      "Kick-Ass\n",
      "Kick-Ass 2\n",
      "Batman Returns\n",
      "Batman\n",
      "The Killer Inside Me\n",
      "Batman & Robin\n",
      "Harry Brown\n",
      "In Too Deep\n",
      "Defendor\n",
      "Point Blank\n",
      "Harsh Times\n",
      "Pain & Gain\n",
      "Hitman\n",
      "Takers\n",
      "10th & Wolf\n",
      "Faster\n"
     ]
    }
   ],
   "source": [
    "#print names of top 20 similar movies\n",
    "for movie in range(1,21):\n",
    "    print(get_title_from_index(sorted_similar_movies[movie][0]))\n"
   ]
  },
  {
   "cell_type": "code",
   "execution_count": null,
   "metadata": {},
   "outputs": [],
   "source": []
  }
 ],
 "metadata": {
  "kernelspec": {
   "display_name": "Python 3",
   "language": "python",
   "name": "python3"
  },
  "language_info": {
   "codemirror_mode": {
    "name": "ipython",
    "version": 3
   },
   "file_extension": ".py",
   "mimetype": "text/x-python",
   "name": "python",
   "nbconvert_exporter": "python",
   "pygments_lexer": "ipython3",
   "version": "3.7.3"
  }
 },
 "nbformat": 4,
 "nbformat_minor": 2
}
